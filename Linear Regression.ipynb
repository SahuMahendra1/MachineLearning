{
 "cells": [
  {
   "cell_type": "markdown",
   "metadata": {
    "application/vnd.databricks.v1+cell": {
     "cellMetadata": {
      "byteLimit": 2048000,
      "rowLimit": 10000
     },
     "inputWidgets": {},
     "nuid": "f8292694-8ff6-4e5b-9e8b-98a880e08040",
     "showTitle": false,
     "tableResultSettingsMap": {},
     "title": ""
    }
   },
   "source": [
    "📈 What Is Linear Regression?\n",
    "Linear regression estimates how one variable (called the dependent variable, like sales) changes as another variable (the independent variable, like advertising spend) changes.\n",
    "\n",
    "Equation Format\n",
    "𝑦=𝑚𝑥+𝑏\n",
    "\n",
    "y is the target variable\n",
    "\n",
    "x is the input feature\n",
    "\n",
    "m is the slope (effect of x on y)\n",
    "\n",
    "b is the intercept (where line hits the y-axis)"
   ]
  },
  {
   "cell_type": "code",
   "execution_count": 0,
   "metadata": {
    "application/vnd.databricks.v1+cell": {
     "cellMetadata": {
      "byteLimit": 2048000,
      "rowLimit": 10000
     },
     "inputWidgets": {},
     "nuid": "9b09855e-5b66-4221-80f4-4dea493f4108",
     "showTitle": false,
     "tableResultSettingsMap": {},
     "title": ""
    }
   },
   "outputs": [],
   "source": [
    "#load data set\n",
    "from sklearn.datasets import fetch_california_housing\n",
    "import pandas as pd"
   ]
  },
  {
   "cell_type": "markdown",
   "metadata": {
    "application/vnd.databricks.v1+cell": {
     "cellMetadata": {
      "byteLimit": 2048000,
      "rowLimit": 10000
     },
     "inputWidgets": {},
     "nuid": "54feec11-2fe2-4437-9fed-4be9be7298fb",
     "showTitle": false,
     "tableResultSettingsMap": {},
     "title": ""
    }
   },
   "source": [
    "What’s happening:\n",
    "\n",
    "* fetch_california_housing() loads a dataset with housing features and prices.\n",
    "\n",
    "* housing.data contains the features (like income, age, rooms).\n",
    "\n",
    "* housing.target contains the house prices.\n",
    "\n",
    "* We create a pandas DataFrame df with all this data."
   ]
  },
  {
   "cell_type": "code",
   "execution_count": 0,
   "metadata": {
    "application/vnd.databricks.v1+cell": {
     "cellMetadata": {
      "byteLimit": 2048000,
      "rowLimit": 10000
     },
     "inputWidgets": {},
     "nuid": "72df1f03-cddd-4840-ad56-8f444cfb3591",
     "showTitle": false,
     "tableResultSettingsMap": {},
     "title": ""
    }
   },
   "outputs": [],
   "source": [
    "housing = fetch_california_housing()\n",
    "df= pd.DataFrame(housing.data, columns=housing.feature_names)\n",
    "df['target']= housing.target\n"
   ]
  },
  {
   "cell_type": "code",
   "execution_count": 0,
   "metadata": {
    "application/vnd.databricks.v1+cell": {
     "cellMetadata": {
      "byteLimit": 2048000,
      "rowLimit": 10000
     },
     "inputWidgets": {},
     "nuid": "09ddbcfb-523b-45b2-85d1-6f94bc2b4b25",
     "showTitle": false,
     "tableResultSettingsMap": {},
     "title": ""
    }
   },
   "outputs": [],
   "source": [
    "display(df.head())\n",
    "print(df.shape)"
   ]
  },
  {
   "cell_type": "markdown",
   "metadata": {
    "application/vnd.databricks.v1+cell": {
     "cellMetadata": {
      "byteLimit": 2048000,
      "rowLimit": 10000
     },
     "inputWidgets": {},
     "nuid": "77892db8-30ac-4336-b9eb-8e064b82b71d",
     "showTitle": false,
     "tableResultSettingsMap": {},
     "title": ""
    }
   },
   "source": [
    "X contains all columns except 'target'.\n",
    "\n",
    "y is the column we want to predict.\n",
    "\n",
    "We split the data into training (80%) and testing (20%) sets.\n",
    "\n",
    "test_size=0.2 means 20% of the data is used for testing, and 80% for training.\n",
    "\n",
    "random_state=42 ensures the split is reproducible (same result every time).\n"
   ]
  },
  {
   "cell_type": "code",
   "execution_count": 0,
   "metadata": {
    "application/vnd.databricks.v1+cell": {
     "cellMetadata": {
      "byteLimit": 2048000,
      "rowLimit": 10000
     },
     "inputWidgets": {},
     "nuid": "0f42193e-d889-4b6c-b710-089b52719667",
     "showTitle": false,
     "tableResultSettingsMap": {},
     "title": ""
    }
   },
   "outputs": [],
   "source": [
    "from sklearn.linear_model import LinearRegression\n",
    "from sklearn.model_selection import train_test_split\n",
    "from sklearn.metrics import mean_squared_error, r2_score\n",
    "\n",
    "# Split data\n",
    "X = df.drop('target', axis=1)\n",
    "y = df['target']\n",
    "X_train, X_test, y_train, y_test = train_test_split(X, y, test_size=0.2, random_state=42)\n",
    "\n",
    "# Train model\n",
    "model = LinearRegression()\n",
    "model.fit(X_train, y_train)\n"
   ]
  },
  {
   "cell_type": "markdown",
   "metadata": {
    "application/vnd.databricks.v1+cell": {
     "cellMetadata": {
      "byteLimit": 2048000,
      "rowLimit": 10000
     },
     "inputWidgets": {},
     "nuid": "3ac942bc-e044-4e4a-bb50-f945102321ac",
     "showTitle": false,
     "tableResultSettingsMap": {},
     "title": ""
    }
   },
   "source": [
    "R², or coefficient of determination, measures how well your model’s predictions match the actual data.\n",
    "\n",
    "🔹 Intuition:\n",
    "It tells you how much of the variation in the target variable (house prices) is explained by your model.\n",
    "\n",
    "It’s like asking: “How good is my model at predicting?”\n",
    "\n",
    "🎯 R² Score Range\n",
    "\n",
    "R².Value\t          Meaning\n",
    "1.0\t             Perfect prediction (model explains all variation)\n",
    "0.0\t             Model explains none of the variation\n",
    "< 0.0\t           Model is worse than just predicting the average\n",
    "\n",
    "🧮 Formula (Conceptual)\n",
    "𝑅2=1−Sum of Squared Errors/Total Sum of Squares\n",
    "\n",
    "Sum of Squared Errors (SSE): Difference between actual and predicted values.\n",
    "\n",
    "Total Sum of Squares (TSS): Total variation in the actual values."
   ]
  },
  {
   "cell_type": "markdown",
   "metadata": {
    "application/vnd.databricks.v1+cell": {
     "cellMetadata": {
      "byteLimit": 2048000,
      "rowLimit": 10000
     },
     "inputWidgets": {},
     "nuid": "4a20476a-215c-4dd9-823c-7be8c6f7b3f5",
     "showTitle": false,
     "tableResultSettingsMap": {},
     "title": ""
    }
   },
   "source": [
    "What this does:\n",
    "\n",
    "Creates a linear regression model.\n",
    "\n",
    "Fits it to the training data so it learns the relationship between features and house prices."
   ]
  },
  {
   "cell_type": "code",
   "execution_count": 0,
   "metadata": {
    "application/vnd.databricks.v1+cell": {
     "cellMetadata": {
      "byteLimit": 2048000,
      "rowLimit": 10000
     },
     "inputWidgets": {},
     "nuid": "9a28b5f3-4903-4682-b324-a9a3ee9986db",
     "showTitle": false,
     "tableResultSettingsMap": {},
     "title": ""
    }
   },
   "outputs": [],
   "source": [
    "y_pred = model.predict(X_test)\n",
    "\n",
    "rmse = mean_squared_error(y_test, y_pred, squared=False)\n",
    "r2 = r2_score(y_test, y_pred)\n",
    "\n",
    "print(f\"Root Mean Squared Error: {rmse:.2f}\")\n",
    "print(f\"R² Score: {r2:.3f}\")\n"
   ]
  },
  {
   "cell_type": "markdown",
   "metadata": {
    "application/vnd.databricks.v1+cell": {
     "cellMetadata": {
      "byteLimit": 2048000,
      "rowLimit": 10000
     },
     "inputWidgets": {},
     "nuid": "5c04ca53-117f-44b0-b6c7-dbc8ce365b0e",
     "showTitle": false,
     "tableResultSettingsMap": {},
     "title": ""
    }
   },
   "source": [
    "y_pred are the predicted prices.\n",
    "\n",
    "RMSE shows how far off predictions are on average (lower is better).\n",
    "\n",
    "R² shows how well the model explains the variance in the data (closer to 1 is better)."
   ]
  },
  {
   "cell_type": "code",
   "execution_count": 0,
   "metadata": {
    "application/vnd.databricks.v1+cell": {
     "cellMetadata": {
      "byteLimit": 2048000,
      "rowLimit": 10000
     },
     "inputWidgets": {},
     "nuid": "c3562ed2-9517-4ef0-8bea-3aa7e9ff57a4",
     "showTitle": false,
     "tableResultSettingsMap": {},
     "title": ""
    }
   },
   "outputs": [],
   "source": [
    "import matplotlib.pyplot as plt\n",
    "\n",
    "plt.scatter(y_test, y_pred, alpha=0.5)\n",
    "plt.xlabel(\"Actual Values\")\n",
    "plt.ylabel(\"Predicted Values\")\n",
    "plt.title(\"Linear Regression Predictions\")\n",
    "plt.show()\n"
   ]
  },
  {
   "cell_type": "code",
   "execution_count": 0,
   "metadata": {
    "application/vnd.databricks.v1+cell": {
     "cellMetadata": {
      "byteLimit": 2048000,
      "rowLimit": 10000
     },
     "inputWidgets": {},
     "nuid": "9e465ba8-d6a7-4dfe-935e-01fcd1f77444",
     "showTitle": false,
     "tableResultSettingsMap": {},
     "title": ""
    }
   },
   "outputs": [],
   "source": [
    "from sklearn.linear_model import Ridge\n",
    "from sklearn.model_selection import GridSearchCV\n",
    "from sklearn.metrics import mean_squared_error, r2_score\n",
    "\n",
    "ridge = Ridge()\n",
    "param = {'alpha': [0.1, 0.2, 0.4, 0.5, 1e-10, 1e-5, 1e-3, 1e-2, 1e-1, 1, 2, 3]}\n",
    "\n",
    "ridgeregressor = GridSearchCV(ridge, param, scoring='neg_mean_squared_error', cv=5)\n",
    "\n",
    "ridgeregressor.fit(X_train, y_train)\n",
    "\n",
    "\n"
   ]
  },
  {
   "cell_type": "markdown",
   "metadata": {
    "application/vnd.databricks.v1+cell": {
     "cellMetadata": {},
     "inputWidgets": {},
     "nuid": "aac69727-4639-4c2a-93d0-abd6ec3d6b41",
     "showTitle": false,
     "tableResultSettingsMap": {},
     "title": ""
    }
   },
   "source": [
    "🧠 What Is Ridge Regression?\n",
    "Ridge Regression is a type of linear regression that adds L2 regularization to the cost function. It helps prevent overfitting by discouraging the model from assigning large weights to any one feature.\n",
    "\n",
    "Ridge Cost Function:\n",
    "$$\n",
    "J(\\theta) = \\frac{1}{n} \\sum_{i=1}^{n} (y_i - \\hat{y}_i)^2 + \\alpha \\sum_{j=1}^{p} \\theta_j^2\n",
    "$$\n",
    "\n",
    "First term: Regular Mean Squared Error (how wrong the predictions are).\n",
    "\n",
    "Second term: L2 penalty (sum of squared coefficients).\n",
    "\n",
    "α (alpha): Regularization strength.\n",
    "\n",
    "If α = 0: Ridge becomes regular linear regression.\n",
    "\n",
    "If α is large: Coefficients shrink more, reducing model complexity.\n"
   ]
  },
  {
   "cell_type": "code",
   "execution_count": 0,
   "metadata": {
    "application/vnd.databricks.v1+cell": {
     "cellMetadata": {
      "byteLimit": 2048000,
      "rowLimit": 10000
     },
     "inputWidgets": {},
     "nuid": "4005d623-f520-4032-a237-84eb47fc574b",
     "showTitle": false,
     "tableResultSettingsMap": {},
     "title": ""
    }
   },
   "outputs": [],
   "source": [
    "print(ridgeregressor.best_score_)\n",
    "print(ridgeregressor.best_params_)\n"
   ]
  },
  {
   "cell_type": "code",
   "execution_count": 0,
   "metadata": {
    "application/vnd.databricks.v1+cell": {
     "cellMetadata": {
      "byteLimit": 2048000,
      "rowLimit": 10000
     },
     "inputWidgets": {},
     "nuid": "4683503e-b368-4fa1-8d8e-6460da979921",
     "showTitle": false,
     "tableResultSettingsMap": {},
     "title": ""
    }
   },
   "outputs": [],
   "source": [
    "ridge = Ridge(alpha=3.0)\n",
    "ridge.fit(X_train, y_train)\n",
    "y_pred_ridge = ridge.predict(X_test)\n",
    "\n",
    "r2_ridge = r2_score(y_test, y_pred_ridge)\n",
    "print(f\"R² Score (Ridge): {r2_ridge:.3f}\")"
   ]
  },
  {
   "cell_type": "code",
   "execution_count": 0,
   "metadata": {
    "application/vnd.databricks.v1+cell": {
     "cellMetadata": {
      "byteLimit": 2048000,
      "rowLimit": 10000
     },
     "inputWidgets": {},
     "nuid": "73d34a7d-7c5b-4830-9c20-deb28c7f6eaf",
     "showTitle": false,
     "tableResultSettingsMap": {},
     "title": ""
    }
   },
   "outputs": [],
   "source": [
    "plt.scatter(y_test, y_pred_ridge, alpha=0.7)\n",
    "plt.xlabel(\"Actual Values\")\n",
    "plt.ylabel(\"Predicted Values\")\n",
    "plt.title(\"Ridge Regression Predictions\")\n",
    "plt.show()"
   ]
  },
  {
   "cell_type": "code",
   "execution_count": 0,
   "metadata": {
    "application/vnd.databricks.v1+cell": {
     "cellMetadata": {
      "byteLimit": 2048000,
      "rowLimit": 10000
     },
     "inputWidgets": {},
     "nuid": "10171816-589a-4e9e-9a91-1c67a15feb59",
     "showTitle": false,
     "tableResultSettingsMap": {},
     "title": ""
    }
   },
   "outputs": [],
   "source": [
    "lassoregressor = GridSearchCV(lasso, param, scoring='neg_mean_squared_error', cv=5)\n",
    "\n",
    "lassoregressor.fit(X_train, y_train)"
   ]
  },
  {
   "cell_type": "markdown",
   "metadata": {
    "application/vnd.databricks.v1+cell": {
     "cellMetadata": {},
     "inputWidgets": {},
     "nuid": "16200ff2-4656-4ae2-a9e0-bd9a65560e9b",
     "showTitle": false,
     "tableResultSettingsMap": {},
     "title": ""
    }
   },
   "source": [
    "🧠 What Is Lasso Regression?\n",
    "Lasso stands for Least Absolute Shrinkage and Selection Operator. It’s a type of linear regression that adds L1 regularization to the cost function.\n",
    "\n",
    "Unlike Ridge (which shrinks coefficients), Lasso can shrink some coefficients all the way to zero—effectively removing irrelevant features. This makes it great for feature selection\n",
    "\n",
    "Lasso Cost Function:\n",
    "\n",
    "$$\n",
    "J(\\theta) = \\frac{1}{n} \\sum_{i=1}^{n} (y_i - \\hat{y}_i)^2 + \\alpha \\sum_{j=1}^{p} |\\theta_j|\n",
    "$$\n",
    "\n",
    "First term: Mean Squared Error (how wrong the predictions are).\n",
    "\n",
    "Second term: L1 penalty (sum of absolute values of coefficients).\n",
    "\n",
    "α (alpha): Regularization strength.\n",
    "\n",
    "Larger α → more aggressive shrinking.\n",
    "\n",
    "Smaller α → behaves more like regular linear regression."
   ]
  },
  {
   "cell_type": "code",
   "execution_count": 0,
   "metadata": {
    "application/vnd.databricks.v1+cell": {
     "cellMetadata": {
      "byteLimit": 2048000,
      "rowLimit": 10000
     },
     "inputWidgets": {},
     "nuid": "3d4d7452-a15a-4e9c-b4ee-771478d5e1b5",
     "showTitle": false,
     "tableResultSettingsMap": {},
     "title": ""
    }
   },
   "outputs": [],
   "source": [
    "print(lassoregressor.best_score_)\n",
    "print(lassoregressor.best_params_) "
   ]
  },
  {
   "cell_type": "code",
   "execution_count": 0,
   "metadata": {
    "application/vnd.databricks.v1+cell": {
     "cellMetadata": {
      "byteLimit": 2048000,
      "rowLimit": 10000
     },
     "inputWidgets": {},
     "nuid": "dd445c39-1a39-4763-95b9-c1f7e04daa91",
     "showTitle": false,
     "tableResultSettingsMap": {},
     "title": ""
    }
   },
   "outputs": [],
   "source": [
    "lasso = Lasso(alpha=1e-05)\n",
    "lasso.fit(X_train, y_train)\n",
    "y_pred_lasso = lasso.predict(X_test)\n",
    "\n",
    "r2_lasso = r2_score(y_test, y_pred_lasso)\n",
    "print(f\"R² Score (Lasso): {r2_lasso:.3f}\")\n"
   ]
  },
  {
   "cell_type": "code",
   "execution_count": 0,
   "metadata": {
    "application/vnd.databricks.v1+cell": {
     "cellMetadata": {
      "byteLimit": 2048000,
      "rowLimit": 10000
     },
     "inputWidgets": {},
     "nuid": "eaabfc6a-3fa0-4dcc-87e1-649d6db1bc28",
     "showTitle": false,
     "tableResultSettingsMap": {},
     "title": ""
    }
   },
   "outputs": [],
   "source": [
    "from sklearn.preprocessing import PolynomialFeatures\n",
    "from sklearn.pipeline import make_pipeline\n",
    "\n",
    "poly_model = make_pipeline(PolynomialFeatures(degree=2), LinearRegression())\n",
    "poly_model.fit(X_train, y_train)\n",
    "y_pred_poly = poly_model.predict(X_test)\n",
    "\n",
    "r2_poly = r2_score(y_test, y_pred_poly)\n",
    "print(f\"R² Score (Polynomial): {r2_poly:.2f}\")\n"
   ]
  },
  {
   "cell_type": "markdown",
   "metadata": {
    "application/vnd.databricks.v1+cell": {
     "cellMetadata": {},
     "inputWidgets": {},
     "nuid": "0446fea3-1368-46a6-8d14-bd4ebfe373cd",
     "showTitle": false,
     "tableResultSettingsMap": {},
     "title": ""
    }
   },
   "source": [
    "🧠 What Is Polynomial Regression?\n",
    "Polynomial Regression is an extension of Linear Regression that allows the model to fit non-linear relationships between the features and the target variable.\n",
    "\n",
    "🔍 Why Use It?\n",
    "Linear regression fits a straight line.\n",
    "\n",
    "Polynomial regression fits a curve by adding powers of the input features.\n",
    "🧮 Mathematical Form\n",
    "For a single feature \n",
    "𝑥\n",
    ", a polynomial regression of degree 2 looks like:\n",
    "\n",
    "$$\n",
    "\\hat{y} = \\theta_0 + \\theta_1 x + \\theta_2 x^2\n",
    "$$\n",
    "For degree 3:\n",
    "$$\n",
    "\\hat{y} = \\theta_0 + \\theta_1 x + \\theta_2 x^2 + \\theta_3 x^3\n",
    "$$\n",
    "\n",
    "And so on."
   ]
  },
  {
   "cell_type": "code",
   "execution_count": 0,
   "metadata": {
    "application/vnd.databricks.v1+cell": {
     "cellMetadata": {
      "byteLimit": 2048000,
      "rowLimit": 10000
     },
     "inputWidgets": {},
     "nuid": "09670a95-e729-485a-8d4b-39b4b566d65b",
     "showTitle": false,
     "tableResultSettingsMap": {},
     "title": ""
    }
   },
   "outputs": [],
   "source": [
    "display(y_test,y_pred_poly)"
   ]
  },
  {
   "cell_type": "code",
   "execution_count": 0,
   "metadata": {
    "application/vnd.databricks.v1+cell": {
     "cellMetadata": {
      "byteLimit": 2048000,
      "rowLimit": 10000
     },
     "inputWidgets": {},
     "nuid": "04c19353-3b51-40b5-bdd6-ec47225146e5",
     "showTitle": false,
     "tableResultSettingsMap": {},
     "title": ""
    }
   },
   "outputs": [],
   "source": [
    "plt.scatter(y_test, y_pred_poly, alpha=0.7)\n",
    "plt.xlabel(\"Actual Values\")\n",
    "plt.ylabel(\"Predicted Values\")"
   ]
  },
  {
   "cell_type": "code",
   "execution_count": 0,
   "metadata": {
    "application/vnd.databricks.v1+cell": {
     "cellMetadata": {
      "byteLimit": 2048000,
      "rowLimit": 10000
     },
     "inputWidgets": {},
     "nuid": "a7b03ee3-08ff-498f-9221-ebbe9e9e7793",
     "showTitle": false,
     "tableResultSettingsMap": {},
     "title": ""
    }
   },
   "outputs": [],
   "source": [
    "# #Initialize Spark Session\n",
    "# spark= SparkSession.builder.appName(\"Linear Regression\").getOrCreate()\n",
    "\n",
    "# #Fetch the dataset\n",
    "# california_housing = fetch_california_housing()\n",
    "\n",
    "# data= [tuple(list(row)+[target]) for row,target in zip(california_housing.data,california_housing.target)]\n",
    "\n",
    "# #define column names\n",
    "# columns = list(california_housing.feature_names)+[\"target\"]\n",
    "\n",
    "# c_schema = StructType([\n",
    "#     StructField(\"MedInc\", DoubleType(), True),\n",
    "#     StructField(\"HouseAge\", DoubleType(), True),\n",
    "#     StructField(\"AveRooms\", DoubleType(), True),\n",
    "#     StructField(\"AveBedrms\", DoubleType(), True),\n",
    "#     StructField(\"Population\", DoubleType(), True),\n",
    "#     StructField(\"AveOccup\", DoubleType(), True),\n",
    "#     StructField(\"Latitude\", DoubleType(), True),\n",
    "#     StructField(\"Longitude\", DoubleType(), True),\n",
    "#     StructField(\"target\", DoubleType(), True)\n",
    "# ])"
   ]
  },
  {
   "cell_type": "code",
   "execution_count": 0,
   "metadata": {
    "application/vnd.databricks.v1+cell": {
     "cellMetadata": {
      "byteLimit": 2048000,
      "rowLimit": 10000
     },
     "inputWidgets": {},
     "nuid": "c68008df-a2f1-4339-a0f9-48900ed036e8",
     "showTitle": false,
     "tableResultSettingsMap": {},
     "title": ""
    }
   },
   "outputs": [],
   "source": [
    "# spark_df = spark.createDataFrame(data,schema= c_schema)"
   ]
  },
  {
   "cell_type": "code",
   "execution_count": 0,
   "metadata": {
    "application/vnd.databricks.v1+cell": {
     "cellMetadata": {},
     "inputWidgets": {},
     "nuid": "73400ce5-1e6b-4196-ad32-e0568674e89d",
     "showTitle": false,
     "tableResultSettingsMap": {},
     "title": ""
    }
   },
   "outputs": [],
   "source": [
    "\n",
    "# from pyspark.ml.connect.regression import LinearRegression\n",
    "\n",
    "\n",
    "\n",
    "# # Initialize the Linear Regression model without arguments\n",
    "# lr = LinearRegression()\n",
    "\n",
    "# # Set the parameters using setParams\n",
    "# lr.setParams(featuresCol='features', labelCol='target')\n",
    "\n",
    "# # Fit the model\n",
    "# lr_model = lr.fit(spark_df)\n",
    "\n",
    "# # Make predictions\n",
    "# predictions = lr_model.transform(spark_df)\n",
    "\n",
    "# # Display predictions\n",
    "# display(predictions)\n"
   ]
  }
 ],
 "metadata": {
  "application/vnd.databricks.v1+notebook": {
   "computePreferences": {
    "hardware": {
     "accelerator": null,
     "gpuPoolId": null,
     "memory": null
    }
   },
   "dashboards": [],
   "environmentMetadata": {
    "base_environment": "",
    "environment_version": "2"
   },
   "inputWidgetPreferences": null,
   "language": "python",
   "notebookMetadata": {
    "pythonIndentUnit": 4
   },
   "notebookName": "Linear Regression",
   "widgets": {}
  },
  "language_info": {
   "name": "python"
  }
 },
 "nbformat": 4,
 "nbformat_minor": 0
}
